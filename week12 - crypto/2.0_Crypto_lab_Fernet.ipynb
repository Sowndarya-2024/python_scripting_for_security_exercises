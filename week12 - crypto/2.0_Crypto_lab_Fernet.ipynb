{
 "cells": [
  {
   "cell_type": "markdown",
   "metadata": {},
   "source": [
    "# Fernet Module"
   ]
  },
  {
   "cell_type": "markdown",
   "metadata": {},
   "source": [
    "The fernet module guarantees that data encrypted using it cannot be further manipulated or read without the key. The fernet module of the cryptography package has inbuilt functions for the generation of the key, encryption of plaintext into ciphertext, and decryption of ciphertext into plaintext using the encrypt and decrypt methods respectively."
   ]
  },
  {
   "cell_type": "markdown",
   "metadata": {},
   "source": [
    "## Key Generation"
   ]
  },
  {
   "cell_type": "markdown",
   "metadata": {},
   "source": [
    "### `generate_key()`\n",
    "\n",
    "This method generates a new fernet key. The key must be kept safe as it is the most important component to decrypt the ciphertext. If the key is lost then the user can no longer decrypt the message. Also, if an intruder or hacker gets access to the key, they can not only read the data but also forge the data. "
   ]
  },
  {
   "cell_type": "code",
   "execution_count": 2,
   "metadata": {},
   "outputs": [],
   "source": [
    "from cryptography.fernet import Fernet"
   ]
  },
  {
   "cell_type": "code",
   "execution_count": 19,
   "metadata": {},
   "outputs": [
    {
     "name": "stdout",
     "output_type": "stream",
     "text": [
      "Token:  b'G5noW_n1c0iPbhhk5F7DcFEgkhoxLt9bKuxbXH8xpKc='\n"
     ]
    }
   ],
   "source": [
    "# Generate key\n",
    "key = Fernet.generate_key()\n",
    "f = Fernet(key)\n",
    "print (\"Token: \", key)"
   ]
  },
  {
   "cell_type": "code",
   "execution_count": null,
   "metadata": {},
   "outputs": [],
   "source": [
    "# Exercise\n"
   ]
  },
  {
   "cell_type": "markdown",
   "metadata": {},
   "source": [
    "## Encryption"
   ]
  },
  {
   "cell_type": "markdown",
   "metadata": {},
   "source": [
    "Fernet module provides two encryption functions.\n",
    "\n",
    "### 1. `encrypt(data)`\n",
    "\n",
    "The message that need to be encrypted should be pass as the parameter as bytes. The encrypt() function returns the secure encrypted data that cannot be altered or read without the key. The encrypted data is refered as Fernet Token.\n",
    "\n",
    "Parameter: data (bytes)\n",
    "\n",
    "Return: encrypted data(bytes)\n",
    "\n",
    "Exception raises if data is not in bytes. "
   ]
  },
  {
   "cell_type": "code",
   "execution_count": null,
   "metadata": {},
   "outputs": [],
   "source": [
    "from cryptography.fernet import Fernet"
   ]
  },
  {
   "cell_type": "code",
   "execution_count": 5,
   "metadata": {},
   "outputs": [
    {
     "name": "stdout",
     "output_type": "stream",
     "text": [
      "Encrypted data:  b'gAAAAABgRw6k7Uj-s7bzorkDAClWiBL5jMTbVTo8S8eiOa6cSjnxlML3SCisa08n76rtQwneU17jnwMpgTXzu_-NDPmSod45GUJej7cMfvfT4MRkbhe40fI='\n"
     ]
    }
   ],
   "source": [
    "# Generate key\n",
    "key = Fernet.generate_key()\n",
    "f = Fernet(key)\n",
    "\n",
    "# Encrypting the plaintext with the generated kay\n",
    "token = f.encrypt(b\"my deep dark secret\")\n",
    "\n",
    "print(\"Encrypted data: \", token)"
   ]
  },
  {
   "cell_type": "code",
   "execution_count": 18,
   "metadata": {},
   "outputs": [
    {
     "name": "stdout",
     "output_type": "stream",
     "text": [
      "Encrypted data:  b'gAAAAABgRyV1QTIeMCcx54fWNNwQDvqr3YFdg6hyjaUEoUHUhu_NmvpF4xXabXxbr-k-MkGT9Fgu1ebOkotNcAithj5yrdOaAw=='\n"
     ]
    }
   ],
   "source": [
    "#########  Exercise   ###########\n",
    "\n",
    "###generate key\n",
    "key = Fernet.generate_key()\n",
    "f = Fernet(key)\n",
    "\n",
    "### Set a plaintext to be encrypted\n",
    "plaintext = # set a plaintext in bytes\n",
    "\n",
    "# Encrypting the plaintext with the generated kay\n",
    "token = f.encrypt(plaintext)\n",
    "\n",
    "print(\"Encrypted data: \", token)"
   ]
  },
  {
   "cell_type": "markdown",
   "metadata": {},
   "source": [
    "### 2.`encrypt_at_time(data, current_time)`\n",
    "\n",
    "The message that need to be encrypted and current time should be pass as the parameter.\n",
    "Data is encrypted using the current time and data type of time should be int. The goal is that the client code can check the token expiration. \n",
    "Return type and exception are same as encrypt().\n",
    "\n",
    "Since this method can be used in an insecure manner one should make sure the correct time (int(time.time())) is passed as current_time outside testing.\n"
   ]
  },
  {
   "cell_type": "code",
   "execution_count": 7,
   "metadata": {},
   "outputs": [],
   "source": [
    "from cryptography.fernet import Fernet\n",
    "import time"
   ]
  },
  {
   "cell_type": "code",
   "execution_count": 11,
   "metadata": {},
   "outputs": [
    {
     "name": "stdout",
     "output_type": "stream",
     "text": [
      "Encrypted data:  b'gAAAAABgRxyoeoB7zzxtA_GloYf_ie51TXcPdqdItSu9GowmUGBe0CEO6EKa9VoHDqEJc4ZYcuy2h3i3JisBkbqWW2LpcXlBFAf_1_cqbe_XS8QXQgbh4-Y='\n"
     ]
    }
   ],
   "source": [
    "#generate key\n",
    "key = Fernet.generate_key()\n",
    "f = Fernet(key)\n",
    "\n",
    "# Encrypting the plaintext with the generated kay\n",
    "token = f.encrypt_at_time(b\"my deep dark secret\", int(time.time()))\n",
    "\n",
    "print(\"Encrypted data: \", token)"
   ]
  },
  {
   "cell_type": "code",
   "execution_count": null,
   "metadata": {},
   "outputs": [],
   "source": [
    "#########  Exercise   ###########\n",
    "\n",
    "###generate key\n",
    "key = Fernet.generate_key()\n",
    "f = Fernet(key)\n",
    "\n",
    "### Set a plaintext to be encrypted\n",
    "plaintext = # set a plaintext in bytes\n",
    "current_time = # set the time\n",
    "\n",
    "# Encrypting the plaintext with the generated kay\n",
    "token = f.encrypt_at_time(plaintext, current_time)\n",
    "\n",
    "print(\"Encrypted data: \", token)"
   ]
  },
  {
   "cell_type": "markdown",
   "metadata": {},
   "source": [
    "## Decryption"
   ]
  },
  {
   "cell_type": "markdown",
   "metadata": {},
   "source": [
    "### decrypt(token, ttl=None)\n",
    "\n",
    "It decrypts the fernet token. If successfully decrypted you will receive the original plaintext as the result, otherwise an exception will be raised. Here, we pass the encrypted data along with time to live(ttl). ttl is the number of seconds old a message may be to be valid. If the message is older than ttl seconds an exception will be raised. If ttl is not provided (or is None), the age of the message is not considered.\n",
    "\n",
    "Parameters: token(bytes)\n",
    "            <br>  ttl(int)\n",
    "            \n",
    "Return: Original Plaintext\n",
    "\n",
    "Exceptions: cryptography.fernet.InvalidToken – If the token is in any way invalid, this exception is raised. \n",
    "            TypeError – This exception is raised if token is not bytes."
   ]
  },
  {
   "cell_type": "code",
   "execution_count": 12,
   "metadata": {},
   "outputs": [],
   "source": [
    "from cryptography.fernet import Fernet\n",
    "import time"
   ]
  },
  {
   "cell_type": "code",
   "execution_count": 14,
   "metadata": {},
   "outputs": [
    {
     "name": "stdout",
     "output_type": "stream",
     "text": [
      "Encrypted data:  b'gAAAAABgRyKi-XqiqyjltEtFv9RtKaciZ9ASz8ZcmkNLOjXrTXwLRrep8-TFGjaTNit_KkwEOcwemzrM2cDgRfSctX8RXMyawfyTFLyK86cylAT8zxUyuSc='\n",
      "Original data:  b'my deep dark secret'\n"
     ]
    }
   ],
   "source": [
    "# generate key\n",
    "key = Fernet.generate_key()\n",
    "f = Fernet(key)\n",
    "\n",
    "# Encrypting the plaintext with the generated kay\n",
    "token = f.encrypt_at_time(b\"my deep dark secret\", int(time.time()))\n",
    "print(\"Encrypted data: \", token)\n",
    "\n",
    "# Decrypting the fernet token\n",
    "\n",
    "plaintext = f.decrypt(token)\n",
    "print(\"Original data: \", plaintext)"
   ]
  },
  {
   "cell_type": "code",
   "execution_count": null,
   "metadata": {},
   "outputs": [],
   "source": [
    "#########  Exercise   ###########\n",
    "\n",
    "###generate key\n",
    "key = Fernet.generate_key()\n",
    "f = Fernet(key)\n",
    "\n",
    "### Set a plaintext to be encrypted\n",
    "plaintext = # set a plaintext in bytes\n",
    "current_time = # set the time\n",
    "\n",
    "# Encrypting the plaintext with the generated kay\n",
    "token = f.encrypt_at_time(plaintext, current_time)\n",
    "\n",
    "print(\"Encrypted data: \", token)\n",
    "\n",
    "# Decrypting the fernet token\n",
    "plaintext = f.decrypt(token)\n",
    "\n",
    "print(\"Original data: \", plaintext)"
   ]
  },
  {
   "cell_type": "markdown",
   "metadata": {},
   "source": [
    "# Excercise"
   ]
  },
  {
   "cell_type": "markdown",
   "metadata": {},
   "source": [
    "Fernet.generate_key() everytime generates different key. So, let's see how the different keys encrypt the same plaintext and see how unique it is."
   ]
  },
  {
   "cell_type": "code",
   "execution_count": null,
   "metadata": {},
   "outputs": [],
   "source": [
    "from cryptography.fernet import Fernet\n",
    "import time\n",
    "\n",
    "###generate key\n",
    "key1 = Fernet.generate_key()\n",
    "f1 = Fernet(key1)\n",
    "\n",
    "key2 = Fernet.generate_key()\n",
    "f2 = Fernet(key2)\n",
    "\n",
    "print (\"Token1: \", key1)\n",
    "print (\"Token2: \", key2)\n",
    "\n",
    "### Set a plaintext to be encrypted\n",
    "plaintext = # set a plaintext in bytes\n",
    "current_time = # set the time\n",
    "\n",
    "# Encrypting the plaintext with the generated kay\n",
    "token1 = f1.encrypt_at_time(plaintext, current_time)\n",
    "token2 = f2.encrypt_at_time(plaintext, current_time)\n",
    "\n",
    "print(\"Encrypted data1: \", token1)\n",
    "print(\"Encrypted data2: \", token2)\n",
    "\n",
    "# Decrypting the fernet token\n",
    "plaintext1 = f1.decrypt(token1)\n",
    "plaintext2 = f2.decrypt(token2)\n",
    "\n",
    "\n",
    "print(\"Original data1: \", plaintext1)\n",
    "print(\"Original data2: \", plaintext2)"
   ]
  }
 ],
 "metadata": {
  "kernelspec": {
   "display_name": "Python 3",
   "language": "python",
   "name": "python3"
  },
  "language_info": {
   "codemirror_mode": {
    "name": "ipython",
    "version": 3
   },
   "file_extension": ".py",
   "mimetype": "text/x-python",
   "name": "python",
   "nbconvert_exporter": "python",
   "pygments_lexer": "ipython3",
   "version": "3.8.5"
  }
 },
 "nbformat": 4,
 "nbformat_minor": 4
}
