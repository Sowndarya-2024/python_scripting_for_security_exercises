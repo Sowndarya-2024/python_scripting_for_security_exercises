{
 "cells": [
  {
   "cell_type": "markdown",
   "metadata": {},
   "source": [
    "# HMAC\n",
    "\n",
    "This module implements hmac algorithm.\n",
    "\n",
    "hmac.new(key, msg=None, digestmod=None)\n",
    "Return a new hmac object. key is a bytes or bytearray object giving the secret key. If msg is present, the method call update(msg) is made. digestmod is the digest name, digest constructor or module for the HMAC object to use. It supports any name suitable to hashlib.new() and defaults to the hashlib.md5 constructor.\n",
    "\n",
    "<b> An HMAC object has the following methods: </b>\n",
    "\n",
    "<b> HMAC.update(msg) </b>\n",
    "\n",
    "Update the hmac object with msg. Repeated calls are equivalent to a single call with the concatenation of all the arguments: m.update(a); m.update(b) is equivalent to m.update(a + b).\n",
    "\n",
    "<b> HMAC.digest() </b>\n",
    "\n",
    "Return the digest of the bytes passed to the update() method so far. This bytes object will be the same length as the digest_size of the digest given to the constructor. It may contain non-ASCII bytes, including NUL  bytes.\n",
    "\n",
    "<b> HMAC.hexdigest() </b>\n",
    "\n",
    "Like digest() except the digest is returned as a string twice the length containing only hexadecimal digits. This may be used to exchange the value safely in email or other non-binary environments.\n",
    "\n",
    "<b> HMAC.copy() </b>\n",
    "\n",
    "Return a copy (“clone”) of the hmac object. This can be used to efficiently compute the digests of strings that share a common initial substring.\n",
    "\n",
    "<b> A hash object has the following attributes: </b>\n",
    "\n",
    "<b> HMAC.digest_size: </b> The size of the resulting HMAC digest in bytes.\n",
    "\n",
    "<b> HMAC.block_size: </b> The internal block size of the hash algorithm in bytes.\n",
    "\n",
    "<b> HMAC.name: </b> The canonical name of this HMAC, always lowercase, e.g. hmac-md5.\n",
    "\n",
    "##### Helper functions\n",
    "\n",
    "<b> hmac.compare_digest(a, b) </b>\n",
    "\n",
    "Return a == b. This function uses an approach designed to prevent timing analysis by avoiding content-based short circuiting behaviour, making it appropriate for cryptography. a and b must both be of the same type: either str (ASCII only, as e.g. returned by HMAC.hexdigest()), or a bytes-like object."
   ]
  },
  {
   "cell_type": "code",
   "execution_count": 7,
   "metadata": {},
   "outputs": [
    {
     "name": "stdout",
     "output_type": "stream",
     "text": [
      "The first digest: b'4G\\xc3K\\xe1\\xdbj\\xbe\\x14\\xad\\xe30\\xad<\\xa4a'\n",
      "The Canonical Name: hmac-md5\n",
      "Block size: 64bytes\n",
      "Digest size: 16bytes\n",
      "The Copied digest: b'4G\\xc3K\\xe1\\xdbj\\xbe\\x14\\xad\\xe30\\xad<\\xa4a'\n"
     ]
    }
   ],
   "source": [
    "#Import libraries\n",
    "import hashlib\n",
    "import hmac\n",
    "\n",
    "#data\n",
    "update_bytes = b'MAC algorithm is a symmetric key cryptographic technique to provide message authentication.'\n",
    "\n",
    "#secret key\n",
    "password = b'402xy5#'\n",
    "\n",
    "#Generate cryptographic hash using md5\n",
    "my_hmac = hmac.new(update_bytes, password, hashlib.md5)\n",
    "\n",
    "print(\"The first digest: \" + str(my_hmac.digest()))\n",
    "print(\"The Canonical Name: \" + my_hmac.name)\n",
    "print(\"Block size: \" + str (my_hmac.block_size) + \"bytes\")\n",
    "print(\"Digest size: \" + str(my_hmac.digest_size) + \"bytes\")\n",
    "\n",
    "#Create a copy of the hmac object\n",
    "my_hmac_cpy = my_hmac.copy()\n",
    "\n",
    "print(\"The Copied digest: \" + str(my_hmac_cpy.digest()))"
   ]
  },
  {
   "cell_type": "code",
   "execution_count": null,
   "metadata": {},
   "outputs": [],
   "source": [
    "################## Exercise\n",
    "# Try with SHA algorithm\n",
    "\n",
    "#Import libraries\n",
    "import hashlib\n",
    "import hmac\n",
    "\n",
    "#data\n",
    "update_bytes = #Set plaintext in bytes\n",
    "\n",
    "#secret key\n",
    "password = #Set key in bytes\n",
    "\n",
    "algorithm = # Set algorithm as SHA\n",
    "\n",
    "#Generate cryptographic hash using SHA\n",
    "my_hmac = hmac.new(update_bytes, password, algorithm)\n",
    "\n",
    "print(\"The first digest: \" + str(my_hmac.digest()))\n",
    "print(\"The Canonical Name: \" + my_hmac.name)\n",
    "print(\"Block size: \" + str (my_hmac.block_size) + \"bytes\")\n",
    "print(\"Digest size: \" + str(my_hmac.digest_size) + \"bytes\")\n",
    "\n",
    "#Create a copy of the hmac object\n",
    "my_hmac_cpy = my_hmac.copy()\n",
    "\n",
    "print(\"The Copied digest: \" + str(my_hmac_cpy.digest()))\n",
    "\n"
   ]
  },
  {
   "cell_type": "markdown",
   "metadata": {},
   "source": [
    "##### See how the HMAC get affected when key changes"
   ]
  },
  {
   "cell_type": "code",
   "execution_count": 21,
   "metadata": {},
   "outputs": [
    {
     "name": "stdout",
     "output_type": "stream",
     "text": [
      "The first digest: b'\\x05+\\xa0\\xff\\n\\xe7\\xc4\\x1a5\\x96\\xc6XE\\x02)5\\n\\xbc\\xdc\\xed|;\\xcd6OD\\xc6p\\x05\\x17X\\xb2'\n",
      "The second digest: b'\\xd3\\xdd\\xff\\xfb\\xf8d=5r\\xfe{87\\x1dyw\\x04+\\xa3\\x86T\\xf2\\x8dF\\xce\\xc3\\xe5\\xcd\\x14\\x00\\xeci'\n",
      "Is HMAC1 equals HMAC2? False\n"
     ]
    }
   ],
   "source": [
    "#Import libraries\n",
    "import hashlib\n",
    "import hmac\n",
    "\n",
    "#data\n",
    "update_bytes = b'MAC algorithm is a symmetric key cryptographic technique to provide message authentication.'\n",
    "\n",
    "#secret key\n",
    "key1 = b'402xy5#'\n",
    "key2 = b'098765$'\n",
    "\n",
    "#Generate cryptographic hash using md5\n",
    "my_hmac1 = hmac.new(update_bytes, key1, hashlib.sha256)\n",
    "my_hmac2 = hmac.new(update_bytes, key2, hashlib.sha256)\n",
    "\n",
    "my_hmac1 = my_hmac1.digest()\n",
    "my_hmac2 = my_hmac2.digest()\n",
    "\n",
    "print(\"The first digest: \" + str(my_hmac1))\n",
    "print(\"The second digest: \" + str(my_hmac2))\n",
    "\n",
    "print(\"Is HMAC1 equals HMAC2?\", hmac.compare_digest(my_hmac1, my_hmac2))"
   ]
  },
  {
   "cell_type": "code",
   "execution_count": null,
   "metadata": {},
   "outputs": [],
   "source": [
    "################## Exercise\n",
    "#Try by changing Password and hash algorithms\n",
    "\n",
    "\n",
    "\n"
   ]
  }
 ],
 "metadata": {
  "kernelspec": {
   "display_name": "Python 3",
   "language": "python",
   "name": "python3"
  },
  "language_info": {
   "codemirror_mode": {
    "name": "ipython",
    "version": 3
   },
   "file_extension": ".py",
   "mimetype": "text/x-python",
   "name": "python",
   "nbconvert_exporter": "python",
   "pygments_lexer": "ipython3",
   "version": "3.8.5"
  }
 },
 "nbformat": 4,
 "nbformat_minor": 4
}
