{
 "cells": [
  {
   "cell_type": "markdown",
   "metadata": {},
   "source": [
    "# Hashlib"
   ]
  },
  {
   "cell_type": "markdown",
   "metadata": {},
   "source": [
    "Hashlib implements secure hash and message digest algorithms. It implements MD5, SHA1, SHA224, SHA256, SHA384, and SHA512."
   ]
  },
  {
   "cell_type": "markdown",
   "metadata": {},
   "source": [
    "<b>A hash object has the following methods:\n",
    "\n",
    "1.hash.update(data)</b>\n",
    "\n",
    "Update the hash object with the bytes-like object. Repeated calls are equivalent to a single call with the concatenation of all the arguments: m.update(a); m.update(b) is equivalent to m.update(a+b).\n",
    "\n",
    "<b> 2. hash.digest()</b>\n",
    "\n",
    "Return the digest of the data passed to the update() method so far. This is a bytes object of size digest_size which may contain bytes in the whole range from 0 to 255.\n",
    "\n",
    "<b> 3. hash.hexdigest() </b>\n",
    "\n",
    "Like digest() except the digest is returned as a string object of double length, containing only hexadecimal digits.\n",
    "\n",
    "<b> 4. hash.copy() </b>\n",
    "\n",
    "Return a copy (“clone”) of the hash object. This can be used to efficiently compute the digests of data sharing a common initial substring.\n",
    "\n",
    "<b>A hash object has the following attributes:\n",
    "\n",
    "hash.name </b>\n",
    "\n",
    "The canonical name of this hash, always lowercase and always suitable as a parameter to new() to create another hash of this type.\n",
    "\n",
    "<b> Constant attributes of the hash objects:</b>\n",
    "\n",
    "<b> 1. hash.digest_size:</b> The size of the resulting hash in bytes.\n",
    "\n",
    "<b> 2. hash.block_size: </b> The internal block size of the hash algorithm in bytes.\n",
    "\n",
    "<b> hashlib.new(name, [data, ]*, usedforsecurity=True) </b>\n",
    "\n",
    "new is a generic constructor that takes the string name of the desired algorithm as its first parameter. It also exists to allow access to the above listed hashes as well as any other algorithms that your OpenSSL library may offer. The named constructors are much faster than new() and should be preferred."
   ]
  },
  {
   "cell_type": "markdown",
   "metadata": {},
   "source": [
    "### MD5"
   ]
  },
  {
   "cell_type": "code",
   "execution_count": null,
   "metadata": {},
   "outputs": [],
   "source": [
    "import hashlib\n",
    "\n",
    "# Return hash object\n",
    "m = hashlib.md5()\n",
    "\n",
    "# Update the hash object with the bytes-like object\n",
    "m.update(b\"Say Hi\")\n",
    "\n",
    "# Return the digest of the data passed to the update() \n",
    "m.digest()"
   ]
  },
  {
   "cell_type": "markdown",
   "metadata": {},
   "source": [
    "###### See how hashing works without update() function"
   ]
  },
  {
   "cell_type": "code",
   "execution_count": null,
   "metadata": {},
   "outputs": [],
   "source": [
    "import hashlib\n",
    "\n",
    "# Return hash object\n",
    "m = hashlib.md5(b\"Say Hi\")\n",
    "\n",
    "# Return the digest of the data passed to the update() \n",
    "m.digest()"
   ]
  },
  {
   "cell_type": "code",
   "execution_count": null,
   "metadata": {},
   "outputs": [],
   "source": [
    "##### Excercise\n",
    "\n",
    "import hashlib\n",
    "\n",
    "plaitext = #set a plaintext in bytes\n",
    "\n",
    "# Return hash object\n",
    "m = hashlib.md5()\n",
    "\n",
    "# Update the hash object with the bytes-like object\n",
    "m.update(plaintext)\n",
    "\n",
    "# Return the digest of the data passed to the update() \n",
    "m.digest()"
   ]
  },
  {
   "cell_type": "markdown",
   "metadata": {},
   "source": [
    "### SHA256"
   ]
  },
  {
   "cell_type": "code",
   "execution_count": null,
   "metadata": {},
   "outputs": [],
   "source": [
    "import hashlib\n",
    "\n",
    "# Return hash object\n",
    "m = hashlib.sha256()\n",
    "\n",
    "# Update the hash object with the bytes-like object\n",
    "m.update(b\"Say Hi\")\n",
    "\n",
    "# Return the digest of the data passed to the update() \n",
    "m.digest()"
   ]
  },
  {
   "cell_type": "code",
   "execution_count": null,
   "metadata": {},
   "outputs": [],
   "source": [
    "##### Excercise\n",
    "\n",
    "import hashlib\n",
    "\n",
    "plaitext = #set a plaintext in bytes\n",
    "\n",
    "# Return hash object\n",
    "m = hashlib.sha256()\n",
    "\n",
    "# Update the hash object with the bytes-like object\n",
    "m.update(plaintext)\n",
    "\n",
    "# Return the digest of the data passed to the update() \n",
    "m.digest()"
   ]
  },
  {
   "cell_type": "markdown",
   "metadata": {},
   "source": [
    "### Any desired algorithm"
   ]
  },
  {
   "cell_type": "code",
   "execution_count": null,
   "metadata": {
    "scrolled": true
   },
   "outputs": [],
   "source": [
    "import hashlib \n",
    "\n",
    "# Return hash object\n",
    "h = hashlib.new('ripemd160')\n",
    "\n",
    "# Update the hash object with the bytes-like object\n",
    "h.update(b\"Nobody inspects the spammish repetition\")\n",
    "\n",
    "# Returned a string object of double length, containing only hexadecimal digits\n",
    "h.hexdigest()"
   ]
  },
  {
   "cell_type": "markdown",
   "metadata": {},
   "source": [
    "### m.update(a+b)\n",
    "\n",
    "Repeated calls of update are equivalent to a single call with the concatenation of all the arguments: m.update(a); m.update(b) is equivalent to m.update(a+b)."
   ]
  },
  {
   "cell_type": "code",
   "execution_count": null,
   "metadata": {
    "scrolled": true
   },
   "outputs": [],
   "source": [
    "import hashlib\n",
    "\n",
    "a = b\"Hello \"\n",
    "b = b\"Everyone\"\n",
    "\n",
    "# Return hash object\n",
    "m = hashlib.sha256()\n",
    "m1 = hashlib.sha256()\n",
    "\n",
    "# Update the hash object with the bytes-like object\n",
    "m.update(a)\n",
    "m.update(b)\n",
    "m1.update(a+b)\n",
    "\n",
    "# Print the digest of the data passed to the update() \n",
    "print(\"Digest of m = \",m.digest())\n",
    "print(\"Digest of m1 = \",m1.digest())\n",
    "\n",
    "# Print the size of the resulting hash in bytes.\n",
    "print(\"Digest_size of m = \",m.digest_size)\n",
    "print(\"Digest_size of m1 = \",m1.digest_size)\n",
    "\n",
    "# Print the internal block size of the hash algorithm in bytes.\n",
    "print(\"Block size of m: \", m.block_size)\n",
    "print(\"Block size of m1: \", m1.block_size)"
   ]
  },
  {
   "cell_type": "code",
   "execution_count": null,
   "metadata": {},
   "outputs": [],
   "source": [
    "########## Exercise\n",
    "# See if m.update(a) and then m.update(b) is same as m.update(a+b)\n",
    "\n",
    "\n",
    "import hashlib\n",
    "\n",
    "a = #set a plaintext in bytes\n",
    "b = #set a plaintext in bytes\n",
    "\n",
    "# Return hash object\n",
    "m = hashlib.sha256()\n",
    "m1 = hashlib.sha256()\n",
    "\n",
    "# Update the hash object with the bytes-like object\n",
    "m.update(a)\n",
    "m.update(b)\n",
    "m1.update(a+b)\n",
    "\n",
    "# Print the digest of the data passed to the update() \n",
    "print(\"Digest of m = \",m.digest())\n",
    "print(\"Digest of m1 = \",m1.digest())\n",
    "\n",
    "# Print the size of the resulting hash in bytes.\n",
    "print(\"Digest_size of m = \",m.digest_size)\n",
    "print(\"Digest_size of m1 = \",m1.digest_size)\n",
    "\n",
    "# Print the internal block size of the hash algorithm in bytes.\n",
    "print(\"Block size of m: \", m.block_size)\n",
    "print(\"Block size of m1: \", m1.block_size)"
   ]
  },
  {
   "cell_type": "markdown",
   "metadata": {},
   "source": [
    "### Exercise\n",
    "\n",
    "Get the digest for the following hash algorithms:\n",
    "1. sha1\n",
    "2. sha224\n",
    "3. sha384\n",
    "4. sha512"
   ]
  },
  {
   "cell_type": "code",
   "execution_count": null,
   "metadata": {},
   "outputs": [],
   "source": [
    "### SHA1\n",
    "\n"
   ]
  },
  {
   "cell_type": "code",
   "execution_count": null,
   "metadata": {},
   "outputs": [],
   "source": [
    "### SHA224\n",
    "\n",
    "\n"
   ]
  },
  {
   "cell_type": "code",
   "execution_count": null,
   "metadata": {},
   "outputs": [],
   "source": [
    "### SHA384\n",
    "\n",
    "\n"
   ]
  },
  {
   "cell_type": "code",
   "execution_count": null,
   "metadata": {},
   "outputs": [],
   "source": [
    "### SHA512\n",
    "\n",
    "\n"
   ]
  }
 ],
 "metadata": {
  "kernelspec": {
   "display_name": "Python 3",
   "language": "python",
   "name": "python3"
  },
  "language_info": {
   "codemirror_mode": {
    "name": "ipython",
    "version": 3
   },
   "file_extension": ".py",
   "mimetype": "text/x-python",
   "name": "python",
   "nbconvert_exporter": "python",
   "pygments_lexer": "ipython3",
   "version": "3.8.5"
  }
 },
 "nbformat": 4,
 "nbformat_minor": 4
}
