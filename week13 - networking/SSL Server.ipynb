{
 "cells": [
  {
   "cell_type": "markdown",
   "metadata": {},
   "source": [
    "### SSL Server\n",
    "\n",
    "SSL is used to secure the connection and can send the messages securely through the network. \n",
    "\n",
    "To create server certificate:\n",
    "\n",
    "'openssl req -new -newkey rsa:2048 -days 365 -nodes -x509 -keyout server.key -out server.crt'\n",
    "\n",
    "The comman name used should be same as server_sni_hostname used in the client code.\n"
   ]
  },
  {
   "cell_type": "code",
   "execution_count": null,
   "metadata": {},
   "outputs": [],
   "source": [
    "# Import library\n",
    "import socket\n",
    "from socket import AF_INET, SOCK_STREAM, SO_REUSEADDR, SOL_SOCKET, SHUT_RDWR\n",
    "import ssl\n",
    "\n",
    "listen_addr = 'localhost'\n",
    "listen_port = 8082\n",
    "server_cert = 'server.crt'\n",
    "server_key = 'server.key'\n",
    "client_certs = 'client.crt'\n",
    "\n",
    "#create a context holding the key and the certificate\n",
    "context = ssl.create_default_context(ssl.Purpose.CLIENT_AUTH)\n",
    "context.verify_mode = ssl.CERT_REQUIRED\n",
    "context.load_cert_chain(certfile=server_cert, keyfile=server_key)\n",
    "context.load_verify_locations(cafile=client_certs)\n",
    "\n",
    "# Create server socket\n",
    "bindsocket = socket.socket()\n",
    "\n",
    "# Associate server port number with the socket\n",
    "bindsocket.bind((listen_addr, listen_port))\n",
    "\n",
    "# wait for some client to knock on the door\n",
    "bindsocket.listen(5)\n",
    "\n",
    "print(\"Waiting for client\")\n",
    "\n",
    "newsocket, fromaddr = bindsocket.accept()\n",
    "conn = context.wrap_socket(newsocket, server_side=True)\n",
    "\n",
    "buf = b''  # Buffer to hold received client data\n",
    "data = conn.recv(4096)\n",
    "buf += data\n",
    "print(\"Received:\", buf)\n",
    "        \n",
    "print(\"Closing connection\")\n",
    "#conn.shutdown(socket.SHUT_RDWR)\n",
    "conn.close()"
   ]
  },
  {
   "cell_type": "code",
   "execution_count": null,
   "metadata": {},
   "outputs": [],
   "source": []
  }
 ],
 "metadata": {
  "kernelspec": {
   "display_name": "Python 3",
   "language": "python",
   "name": "python3"
  },
  "language_info": {
   "codemirror_mode": {
    "name": "ipython",
    "version": 3
   },
   "file_extension": ".py",
   "mimetype": "text/x-python",
   "name": "python",
   "nbconvert_exporter": "python",
   "pygments_lexer": "ipython3",
   "version": "3.8.5"
  }
 },
 "nbformat": 4,
 "nbformat_minor": 4
}
