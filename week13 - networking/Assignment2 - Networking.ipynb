{
 "cells": [
  {
   "cell_type": "markdown",
   "metadata": {},
   "source": [
    "# Number Guessing Game with SSL module\n",
    "\n",
    "Build a Number guessing game, in which the user selects a range.\n",
    "\n",
    "Let’s say User selected a range, i.e., from 1 to 100.\n",
    "\n",
    "Some random integer \"random\" will be selected by the server and the client has to guess that integer \"n\" in the minimum number of guesses. You can limit the number of guesses to 5.\n",
    "\n",
    "If the user guessed a number which is greater than a randomly selected number, i.e., n > random, the user gets an output \"Try Again! You guessed too high\"\n",
    "\n",
    "If the user guessed a number which is smaller than a randomly selected number, i.e., n < random, the user gets an output \"Try Again! You guessed too small\"\n",
    "\n",
    "If the user guessed in a minimum number of guesses, the user gets a \"Congratulations! You guessed it\" Output.\n",
    "\n",
    "If the user didn't guess the integer in the minimum number of guesses, he/she will get “Better Luck Next Time!\" output."
   ]
  },
  {
   "cell_type": "code",
   "execution_count": null,
   "metadata": {},
   "outputs": [],
   "source": []
  }
 ],
 "metadata": {
  "kernelspec": {
   "display_name": "Python 3",
   "language": "python",
   "name": "python3"
  },
  "language_info": {
   "codemirror_mode": {
    "name": "ipython",
    "version": 3
   },
   "file_extension": ".py",
   "mimetype": "text/x-python",
   "name": "python",
   "nbconvert_exporter": "python",
   "pygments_lexer": "ipython3",
   "version": "3.8.5"
  }
 },
 "nbformat": 4,
 "nbformat_minor": 4
}
