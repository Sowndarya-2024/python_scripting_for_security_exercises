{
 "cells": [
  {
   "cell_type": "markdown",
   "metadata": {},
   "source": [
    "### SSL Client\n",
    "\n",
    "SSL is used to secure the connection and can send the messages securely through the network.\n",
    "\n",
    "To create client certificate:\n",
    "    \n",
    "openssl req -new -newkey rsa:2048 -days 365 -nodes -x509 -keyout client.key -out client.crt"
   ]
  },
  {
   "cell_type": "code",
   "execution_count": null,
   "metadata": {},
   "outputs": [],
   "source": [
    "import socket\n",
    "import ssl\n",
    "\n",
    "host_addr = 'localhost'\n",
    "host_port = 8082\n",
    "server_sni_hostname = 'example.com'\n",
    "server_cert = 'server.crt'\n",
    "client_cert = 'client.crt'\n",
    "client_key = 'client.key'\n",
    "\n",
    "context = ssl.create_default_context(ssl.Purpose.SERVER_AUTH, cafile=server_cert)\n",
    "context.load_cert_chain(certfile=client_cert, keyfile=client_key)\n",
    "\n",
    "# Create client socket\n",
    "s = socket.socket(socket.AF_INET, socket.SOCK_STREAM)\n",
    "conn = context.wrap_socket(s, server_side=False, server_hostname=server_sni_hostname)\n",
    "\n",
    "# Ask for connection to server\n",
    "conn.connect((host_addr, host_port))\n",
    "\n",
    "print(\"Sending: 'Hello, world!\")\n",
    "\n",
    "#sending message to server\n",
    "conn.send(b\"Hello, world!\")\n",
    "\n",
    "print(\"Closing connection\")\n",
    "conn.close()"
   ]
  }
 ],
 "metadata": {
  "kernelspec": {
   "display_name": "Python 3",
   "language": "python",
   "name": "python3"
  },
  "language_info": {
   "codemirror_mode": {
    "name": "ipython",
    "version": 3
   },
   "file_extension": ".py",
   "mimetype": "text/x-python",
   "name": "python",
   "nbconvert_exporter": "python",
   "pygments_lexer": "ipython3",
   "version": "3.8.5"
  }
 },
 "nbformat": 4,
 "nbformat_minor": 4
}
