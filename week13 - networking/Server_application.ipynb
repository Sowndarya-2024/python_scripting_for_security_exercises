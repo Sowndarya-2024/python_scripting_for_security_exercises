{
 "cells": [
  {
   "cell_type": "code",
   "execution_count": 1,
   "metadata": {},
   "outputs": [
    {
     "name": "stdout",
     "output_type": "stream",
     "text": [
      "Listening for client . . .\n",
      "Connected to client at  ('localhost', 8220)\n",
      "Random number is  29\n",
      "Disconnecting\n"
     ]
    }
   ],
   "source": [
    "import socket\n",
    "import sys\n",
    "import random\n",
    "\n",
    "host = 'localhost'\n",
    "port = 8220\n",
    "address = (host, port)\n",
    "modified_message = \"\"\n",
    "\n",
    "server_socket = socket.socket(socket.AF_INET, socket.SOCK_STREAM)\n",
    "server_socket.bind(address)\n",
    "server_socket.listen(5)\n",
    "\n",
    "print (\"Listening for client . . .\")\n",
    "connection_socket, addr = server_socket.accept()\n",
    "print (\"Connected to client at \", address)\n",
    "#pick a large output buffer size because i dont necessarily know how big the incoming packet is   \n",
    "\n",
    "n = random.randint(1, 100)\n",
    "print(\"Random number is \", n)\n",
    "\n",
    "message = b\"Guess a number between 1 and 100\"\n",
    "connection_socket.send(message)\n",
    "\n",
    "output = connection_socket.recv(2048);\n",
    "i=0\n",
    "while (output.strip() != b\"disconnect\"):\n",
    "    # Receive message from client\n",
    "    message = int(output)\n",
    "    \n",
    "    if (message == n):\n",
    "        modified_message = b\"Congratulations! You guessed it\"\n",
    "    elif(message > n):\n",
    "        modified_message = b\"Try Again! You guessed too high\"\n",
    "    else:\n",
    "        modified_message = b\"Try Again! You guessed too small\"\n",
    "        \n",
    "    connection_socket.send(modified_message)\n",
    "    modified_message = \"\"\n",
    "    output = connection_socket.recv(2048);\n",
    "    i=i+1\n",
    "    continue\n",
    "\n",
    "print (\"Disconnecting\")\n",
    "connection_socket.close()"
   ]
  },
  {
   "cell_type": "code",
   "execution_count": null,
   "metadata": {},
   "outputs": [],
   "source": []
  },
  {
   "cell_type": "code",
   "execution_count": null,
   "metadata": {},
   "outputs": [],
   "source": []
  }
 ],
 "metadata": {
  "kernelspec": {
   "display_name": "Python 3",
   "language": "python",
   "name": "python3"
  },
  "language_info": {
   "codemirror_mode": {
    "name": "ipython",
    "version": 3
   },
   "file_extension": ".py",
   "mimetype": "text/x-python",
   "name": "python",
   "nbconvert_exporter": "python",
   "pygments_lexer": "ipython3",
   "version": "3.8.5"
  }
 },
 "nbformat": 4,
 "nbformat_minor": 4
}
