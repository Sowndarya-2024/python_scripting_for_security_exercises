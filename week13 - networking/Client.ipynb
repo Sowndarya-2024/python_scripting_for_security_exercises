{
 "cells": [
  {
   "cell_type": "code",
   "execution_count": 1,
   "metadata": {},
   "outputs": [
    {
     "name": "stdout",
     "output_type": "stream",
     "text": [
      "Enter the lower case message: ihbn\n",
      "From server: (b'IHBN', (0, b'\\x00\\x00\\x00\\x00\\x00\\x00\\x00\\x00\\x00\\x00\\x00\\x00\\x00\\x00'))\n"
     ]
    }
   ],
   "source": [
    "import socket\n",
    "\n",
    "# Create server\n",
    "ServerName = 'localhost'\n",
    "ServerPort = 1200\n",
    "ServerAddress = (ServerName, ServerPort)\n",
    "\n",
    "# Create client socket\n",
    "clientSocket = socket.socket(socket.AF_INET, socket.SOCK_STREAM) # IPv4, TCP socket\n",
    "\n",
    "# Ask for connection to server\n",
    "clientSocket.connect(ServerAddress)\n",
    "\n",
    "# three-way handshake is performed\n",
    "# a TCP connection is established between the client and server.\n",
    "\n",
    "# Create message\n",
    "message = input(\"Enter the lower case message: \")\n",
    "message = bytes(message, 'utf-8')\n",
    "# Send message\n",
    "clientSocket.send(message)\n",
    "\n",
    "# Receive from server\n",
    "modified_sent = clientSocket.recvfrom(2048)\n",
    "\n",
    "# Print received message\n",
    "print (\"From server:\", modified_sent)\n",
    "\n",
    "# Close connection\n",
    "clientSocket.close()"
   ]
  }
 ],
 "metadata": {
  "kernelspec": {
   "display_name": "Python 3",
   "language": "python",
   "name": "python3"
  },
  "language_info": {
   "codemirror_mode": {
    "name": "ipython",
    "version": 3
   },
   "file_extension": ".py",
   "mimetype": "text/x-python",
   "name": "python",
   "nbconvert_exporter": "python",
   "pygments_lexer": "ipython3",
   "version": "3.8.5"
  }
 },
 "nbformat": 4,
 "nbformat_minor": 4
}
