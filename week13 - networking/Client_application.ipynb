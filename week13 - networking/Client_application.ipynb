{
 "cells": [
  {
   "cell_type": "code",
   "execution_count": 1,
   "metadata": {},
   "outputs": [
    {
     "name": "stdout",
     "output_type": "stream",
     "text": [
      "(b'Guess a number between 1 and 100', (0, b'\\x00\\x00\\x00\\x00\\x00\\x00\\x00\\x00\\x00\\x00\\x00\\x00\\x00\\x00'))7\n",
      "b'7'\n",
      "(b'Try Again! You guessed too small', (0, b'\\x00\\x00\\x00\\x00\\x00\\x00\\x00\\x00\\x00\\x00\\x00\\x00\\x00\\x00'))20\n",
      "b'20'\n",
      "(b'Try Again! You guessed too small', (0, b'\\x00\\x00\\x00\\x00\\x00\\x00\\x00\\x00\\x00\\x00\\x00\\x00\\x00\\x00'))50\n",
      "b'50'\n",
      "(b'Try Again! You guessed too high', (0, b'\\x00\\x00\\x00\\x00\\x00\\x00\\x00\\x00\\x00\\x00\\x00\\x00\\x00\\x00'))29\n",
      "b'29'\n",
      "(b'Congratulations! You guessed it', (0, b'\\x00\\x00\\x00\\x00\\x00\\x00\\x00\\x00\\x00\\x00\\x00\\x00\\x00\\x00'))\n",
      "Disconnecting\n"
     ]
    }
   ],
   "source": [
    "import socket\n",
    "\n",
    "received_message = \"\"\n",
    "\n",
    "client_socket = socket.socket(socket.AF_INET, socket.SOCK_STREAM)\n",
    "client_socket.connect((\"localhost\", 8220))\n",
    "received_message = client_socket.recvfrom(2048)\n",
    "\n",
    "for index in range(6):\n",
    "    received_message = str(received_message)\n",
    "    if(received_message.find(\"Congratulations! You guessed it\") < 0 ):\n",
    "        message = input(received_message)\n",
    "        message = bytes(message, 'utf-8')\n",
    "        client_socket.send(message)\n",
    "    \n",
    "        print(message)\n",
    "        received_message = \"\"\n",
    "        received_message = client_socket.recvfrom(2048)\n",
    "    else:\n",
    "        print(received_message)\n",
    "        break\n",
    "        \n",
    "#send disconnect message                                                                                                                           \n",
    "dmsg = b\"disconnect\"\n",
    "print (\"Disconnecting\")\n",
    "client_socket.send(dmsg)\n",
    "\n",
    "client_socket.close()"
   ]
  },
  {
   "cell_type": "code",
   "execution_count": null,
   "metadata": {},
   "outputs": [],
   "source": []
  },
  {
   "cell_type": "code",
   "execution_count": null,
   "metadata": {},
   "outputs": [],
   "source": []
  }
 ],
 "metadata": {
  "kernelspec": {
   "display_name": "Python 3",
   "language": "python",
   "name": "python3"
  },
  "language_info": {
   "codemirror_mode": {
    "name": "ipython",
    "version": 3
   },
   "file_extension": ".py",
   "mimetype": "text/x-python",
   "name": "python",
   "nbconvert_exporter": "python",
   "pygments_lexer": "ipython3",
   "version": "3.8.5"
  }
 },
 "nbformat": 4,
 "nbformat_minor": 4
}
